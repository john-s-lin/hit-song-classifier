{
 "cells": [
  {
   "cell_type": "markdown",
   "metadata": {},
   "source": [
    "# hit-song-classifier\n",
    "\n",
    "## Random Forest Classification\n",
    "\n",
    "The first thing we'll do is define our imports and declare any constants.\n"
   ]
  },
  {
   "cell_type": "code",
   "execution_count": 1,
   "metadata": {},
   "outputs": [],
   "source": [
    "# Define our imports\n",
    "import numpy as np\n",
    "import matplotlib.pyplot as plt\n",
    "\n",
    "from pyspark.sql import DataFrame, SparkSession\n",
    "from pyspark.ml.feature import VectorAssembler\n",
    "from pyspark.ml.classification import RandomForestClassifier\n",
    "from pyspark.ml.evaluation import MulticlassClassificationEvaluator\n",
    "from pyspark.ml.tuning import CrossValidator, CrossValidatorModel, ParamGridBuilder\n",
    "from pyspark.mllib.evaluation import MulticlassMetrics\n",
    "\n",
    "from sklearn.metrics import ConfusionMatrixDisplay\n",
    "\n",
    "# Define our constants\n",
    "TARGET_DATA = \"../../data/spotify_enhanced_dataset_10.csv\"\n",
    "RANDOM_SEED = 0\n",
    "TARGET_FEATURES = [\n",
    "    \"popularity\",\n",
    "    \"danceability\",\n",
    "    \"energy\",\n",
    "    \"key\",\n",
    "    \"loudness\",\n",
    "    \"mode\",\n",
    "    \"speechiness\",\n",
    "    \"acousticness\",\n",
    "    \"instrumentalness\",\n",
    "    \"liveness\",\n",
    "    \"valence\",\n",
    "    \"tempo\",\n",
    "    \"duration_ms\",\n",
    "    \"time_signature\",\n",
    "]"
   ]
  },
  {
   "cell_type": "markdown",
   "metadata": {},
   "source": [
    "Next, we shall split our data in a 60-20-20 train_test_val split. Then we shall build our set of inputs X. We don't want to include the features `[song, artist, year]` since they are keys. We also should define our label `class` since that is our classification feature."
   ]
  },
  {
   "cell_type": "code",
   "execution_count": 2,
   "metadata": {},
   "outputs": [
    {
     "name": "stderr",
     "output_type": "stream",
     "text": [
      "Setting default log level to \"WARN\".\n",
      "To adjust logging level use sc.setLogLevel(newLevel). For SparkR, use setLogLevel(newLevel).\n"
     ]
    },
    {
     "name": "stdout",
     "output_type": "stream",
     "text": [
      "23/04/01 22:41:55 WARN NativeCodeLoader: Unable to load native-hadoop library for your platform... using builtin-java classes where applicable\n",
      "23/04/01 22:41:56 WARN Utils: Service 'SparkUI' could not bind on port 4040. Attempting port 4041.\n",
      "23/04/01 22:42:00 WARN package: Truncated the string representation of a plan since it was too large. This behavior can be adjusted by setting 'spark.sql.debug.maxToStringFields'.\n",
      "Train: 6\n",
      "Test: 0\n",
      "Val: 3\n"
     ]
    }
   ],
   "source": [
    "def feature_transformer(df: DataFrame) -> DataFrame:\n",
    "    \"\"\"Assembles feature vectors in dataframe\n",
    "\n",
    "    Args:\n",
    "        df (DataFrame): input\n",
    "\n",
    "    Returns:\n",
    "        DataFrame: feature-label dataframe\n",
    "    \"\"\"\n",
    "    va = VectorAssembler(inputCols=TARGET_FEATURES, outputCol=\"features\")\n",
    "    va_df = va.transform(df)\n",
    "    return va_df\n",
    "\n",
    "\n",
    "def load_data(filename: str) -> DataFrame:\n",
    "    \"\"\"Load data from file\n",
    "\n",
    "    Args:\n",
    "        filename (str): filename\n",
    "\n",
    "    Returns:\n",
    "        DataFrame: pyspark dataframe\n",
    "    \"\"\"\n",
    "    spark = SparkSession.builder.appName(\"hit-song-classifier-rfc\").getOrCreate()\n",
    "    return spark.read.csv(filename, header=True, inferSchema=True)\n",
    "\n",
    "\n",
    "def split_data(df: DataFrame) -> tuple[DataFrame, DataFrame, DataFrame]:\n",
    "    \"\"\"Splits data to train, val, test splits\n",
    "\n",
    "    Args:\n",
    "        df (DataFrame): full dataframe\n",
    "\n",
    "    Returns:\n",
    "        DataFrame: _description_\n",
    "    \"\"\"\n",
    "    train, val, test = df.randomSplit([0.6, 0.2, 0.2], seed=RANDOM_SEED)\n",
    "    return train, val, test\n",
    "\n",
    "\n",
    "df = feature_transformer(load_data(TARGET_DATA))\n",
    "train_df, val_df, test_df = split_data(df)\n",
    "print(f\"Train: {train_df.count()}\\nTest: {test_df.count()}\\nVal: {val_df.count()}\")"
   ]
  },
  {
   "cell_type": "markdown",
   "metadata": {},
   "source": [
    "## Hyperparameter search: training multiple estimators\n",
    "\n",
    "Here we will train multiple estimators with different hyperparameter settings. For RandomForestClassifiers, the hyperparameters we've chosen include `maxDepth` and `numTrees`."
   ]
  },
  {
   "cell_type": "code",
   "execution_count": 3,
   "metadata": {},
   "outputs": [],
   "source": [
    "def train_estimators(\n",
    "    data: DataFrame,\n",
    "    estimator_type: any,\n",
    "    param_name: str,\n",
    "    param_vals: list[int],\n",
    "    **kwargs,\n",
    ") -> list:\n",
    "    \"\"\"Trains estimators\n",
    "\n",
    "    Args:\n",
    "        data (DataFrame): dataframe\n",
    "        estimator_type (RandomForestClassifier): estimator\n",
    "        param_name (str): parameter name\n",
    "        param_vals (list[int]): parameter values\n",
    "\n",
    "    Returns:\n",
    "        list: list of trained estimators\n",
    "    \"\"\"\n",
    "    estimators = []\n",
    "    for val in param_vals:\n",
    "        estimator = estimator_type(**{param_name: val}, **kwargs)\n",
    "        fitted_models = estimator.fit(data)\n",
    "        estimators.append(fitted_models)\n",
    "        print(f\"Training {fitted_models}\")\n",
    "    return estimators"
   ]
  },
  {
   "cell_type": "markdown",
   "metadata": {},
   "source": [
    "### Hyperparameter search: `maxDepth`\n",
    "\n",
    "Note that in Pyspark, the max depth is `30`.\n"
   ]
  },
  {
   "cell_type": "code",
   "execution_count": 4,
   "metadata": {},
   "outputs": [
    {
     "name": "stdout",
     "output_type": "stream",
     "text": [
      "23/04/01 22:42:02 WARN DecisionTreeMetadata: DecisionTree reducing maxBins from 32 to 6 (= number of training instances)\n",
      "Training RandomForestClassificationModel: uid=RandomForestClassifier_b564d6ab4164, numTrees=20, numClasses=9, numFeatures=14\n",
      "23/04/01 22:42:04 WARN DecisionTreeMetadata: DecisionTree reducing maxBins from 32 to 6 (= number of training instances)\n",
      "Training RandomForestClassificationModel: uid=RandomForestClassifier_f8c44c9d074d, numTrees=20, numClasses=9, numFeatures=14\n",
      "23/04/01 22:42:04 WARN DecisionTreeMetadata: DecisionTree reducing maxBins from 32 to 6 (= number of training instances)\n",
      "Training RandomForestClassificationModel: uid=RandomForestClassifier_52b6767dd0c0, numTrees=20, numClasses=9, numFeatures=14\n",
      "23/04/01 22:42:05 WARN DecisionTreeMetadata: DecisionTree reducing maxBins from 32 to 6 (= number of training instances)\n",
      "Training RandomForestClassificationModel: uid=RandomForestClassifier_9b7b946cbfbb, numTrees=20, numClasses=9, numFeatures=14\n",
      "23/04/01 22:42:06 WARN DecisionTreeMetadata: DecisionTree reducing maxBins from 32 to 6 (= number of training instances)\n",
      "Training RandomForestClassificationModel: uid=RandomForestClassifier_0d8cbf2f9b4f, numTrees=20, numClasses=9, numFeatures=14\n"
     ]
    }
   ],
   "source": [
    "max_depth = [1, 5, 10, 20, 30]\n",
    "rfc_multi = train_estimators(\n",
    "    train_df,\n",
    "    RandomForestClassifier,\n",
    "    \"maxDepth\",\n",
    "    max_depth,\n",
    "    featuresCol=\"features\",\n",
    "    labelCol=\"class\",\n",
    "    seed=RANDOM_SEED,\n",
    ")"
   ]
  },
  {
   "cell_type": "markdown",
   "metadata": {},
   "source": [
    "We want to plot estimator scores to pick the estimator with the best score."
   ]
  },
  {
   "cell_type": "code",
   "execution_count": 5,
   "metadata": {},
   "outputs": [
    {
     "name": "stdout",
     "output_type": "stream",
     "text": [
      "train: [0.7619047619047619, 0.9999999999999999, 0.9999999999999999, 0.9999999999999999, 0.9999999999999999]\n",
      "val: [0.0, 0.0, 0.0, 0.0, 0.0]\n",
      "test: [0.0, 0.0, 0.0, 0.0, 0.0]\n"
     ]
    }
   ],
   "source": [
    "def score_model(models: list, data: DataFrame) -> list:\n",
    "    \"\"\"Scores models\n",
    "\n",
    "    Args:\n",
    "        estimators (list): list of estimators\n",
    "        data (DataFrame): dataframe\n",
    "\n",
    "    Returns:\n",
    "        list: list of scores\n",
    "    \"\"\"\n",
    "    evaluator = MulticlassClassificationEvaluator(\n",
    "        labelCol=\"class\", predictionCol=\"prediction\", metricName=\"f1\"\n",
    "    )\n",
    "\n",
    "    predicted = [model.transform(data) for model in models]\n",
    "    return [evaluator.evaluate(pred) for pred in predicted]\n",
    "\n",
    "\n",
    "print(f\"train: {score_model(rfc_multi, train_df)}\")\n",
    "print(f\"val: {score_model(rfc_multi, val_df)}\")\n",
    "print(f\"test: {score_model(rfc_multi, test_df)}\")"
   ]
  },
  {
   "cell_type": "markdown",
   "metadata": {},
   "source": [
    "### Hyperparameter search: `numTrees`\n"
   ]
  },
  {
   "cell_type": "code",
   "execution_count": 6,
   "metadata": {},
   "outputs": [
    {
     "name": "stdout",
     "output_type": "stream",
     "text": [
      "23/04/01 22:42:09 WARN DecisionTreeMetadata: DecisionTree reducing maxBins from 32 to 6 (= number of training instances)\n",
      "Training RandomForestClassificationModel: uid=RandomForestClassifier_54cbf81bb9ee, numTrees=1, numClasses=9, numFeatures=14\n",
      "23/04/01 22:42:10 WARN DecisionTreeMetadata: DecisionTree reducing maxBins from 32 to 6 (= number of training instances)\n",
      "Training RandomForestClassificationModel: uid=RandomForestClassifier_7c3c3da5fae7, numTrees=5, numClasses=9, numFeatures=14\n",
      "23/04/01 22:42:11 WARN DecisionTreeMetadata: DecisionTree reducing maxBins from 32 to 6 (= number of training instances)\n",
      "Training RandomForestClassificationModel: uid=RandomForestClassifier_59e945a49359, numTrees=10, numClasses=9, numFeatures=14\n",
      "23/04/01 22:42:11 WARN DecisionTreeMetadata: DecisionTree reducing maxBins from 32 to 6 (= number of training instances)\n",
      "Training RandomForestClassificationModel: uid=RandomForestClassifier_60626fdc3e32, numTrees=20, numClasses=9, numFeatures=14\n",
      "23/04/01 22:42:12 WARN DecisionTreeMetadata: DecisionTree reducing maxBins from 32 to 6 (= number of training instances)\n",
      "Training RandomForestClassificationModel: uid=RandomForestClassifier_1def00108ec2, numTrees=50, numClasses=9, numFeatures=14\n",
      "23/04/01 22:42:12 WARN DecisionTreeMetadata: DecisionTree reducing maxBins from 32 to 6 (= number of training instances)\n",
      "Training RandomForestClassificationModel: uid=RandomForestClassifier_1df1f43e94ab, numTrees=100, numClasses=9, numFeatures=14\n"
     ]
    }
   ],
   "source": [
    "num_trees = [1, 5, 10, 20, 50, 100]\n",
    "rfc_trees = train_estimators(\n",
    "    train_df,\n",
    "    RandomForestClassifier,\n",
    "    \"numTrees\",\n",
    "    num_trees,\n",
    "    featuresCol=\"features\",\n",
    "    labelCol=\"class\",\n",
    "    seed=RANDOM_SEED,\n",
    ")"
   ]
  },
  {
   "cell_type": "markdown",
   "metadata": {},
   "source": [
    "### Evaluate the F1 score of the hyperparameters for `max_depth` and `num_trees`"
   ]
  },
  {
   "cell_type": "code",
   "execution_count": 7,
   "metadata": {},
   "outputs": [
    {
     "name": "stdout",
     "output_type": "stream",
     "text": [
      "train: [0.5833333333333334, 0.7777777777777778, 0.9999999999999999, 0.9999999999999999, 0.9999999999999999, 0.9999999999999999]\n",
      "val: [0.0, 0.0, 0.0, 0.0, 0.0, 0.0]\n",
      "test: [0.0, 0.0, 0.0, 0.0, 0.0, 0.0]\n"
     ]
    }
   ],
   "source": [
    "print(f\"train: {score_model(rfc_trees, train_df)}\")\n",
    "print(f\"val: {score_model(rfc_trees, val_df)}\")\n",
    "print(f\"test: {score_model(rfc_trees, test_df)}\")"
   ]
  },
  {
   "cell_type": "code",
   "execution_count": 8,
   "metadata": {},
   "outputs": [],
   "source": [
    "def plot_estimator_scores(models: list, param_name: str, param_vals: list[int]):\n",
    "    \"\"\"Plots the scores of a list of estimators\"\"\"\n",
    "\n",
    "    train_score = score_model(models, train_df)\n",
    "    val_score = score_model(models, val_df)\n",
    "    test_score = score_model(models, test_df)\n",
    "\n",
    "    # Get the best validation score and the index of the best estimator\n",
    "    best_val_score = max(val_score)\n",
    "    best_val_idx = val_score.index(best_val_score)\n",
    "\n",
    "    # Plot metrics\n",
    "    plt.figure()\n",
    "    plt.plot(np.arange(len(train_score)), train_score, \"go-\", label=\"train\")\n",
    "    plt.plot(np.arange(len(val_score)), val_score, \"ro-\", label=\"val\")\n",
    "    plt.plot(np.arange(len(test_score)), test_score, \"k:\", label=\"test\")\n",
    "    # Place an X at the best validation score\n",
    "    plt.scatter(best_val_idx, best_val_score, marker=\"x\", color=\"r\", s=200)\n",
    "\n",
    "    # Additional formatting\n",
    "    plt.ylim(0, 1.05)\n",
    "    plt.xticks(ticks=np.arange(len(train_score)), labels=param_vals)\n",
    "    plt.ylabel(\"score\")\n",
    "    plt.xlabel(param_name)\n",
    "    plt.title(f\"{models[0].__class__.__name__} score vs. {param_name}\")\n",
    "\n",
    "    # Output scores at max_depth of the best_validation_score\n",
    "    plt.text(\n",
    "        3.7 if len(train_score) < 6 else 4.7,\n",
    "        0.3,\n",
    "        f\"train = {train_score[best_val_idx]:.3f}\",\n",
    "        c=\"g\",\n",
    "        ha=\"right\",\n",
    "    )\n",
    "    plt.text(\n",
    "        3.7 if len(train_score) < 6 else 4.7,\n",
    "        0.2,\n",
    "        f\"validate = {best_val_score:.3f}\",\n",
    "        c=\"r\",\n",
    "        ha=\"right\",\n",
    "    )\n",
    "    plt.text(\n",
    "        3.7 if len(train_score) < 6 else 4.7,\n",
    "        0.1,\n",
    "        f\"test = {test_score[best_val_idx]:.3f}\",\n",
    "        c=\"k\",\n",
    "        ha=\"right\",\n",
    "    )\n",
    "    plt.legend()"
   ]
  },
  {
   "cell_type": "code",
   "execution_count": 9,
   "metadata": {},
   "outputs": [
    {
     "name": "stdout",
     "output_type": "stream",
     "text": [
      "CPU times: user 222 ms, sys: 50 ms, total: 272 ms\n",
      "Wall time: 1.96 s\n"
     ]
    },
    {
     "data": {
      "image/png": "[encoded data removed]",
      "text/plain": [
       "<Figure size 640x480 with 1 Axes>"
      ]
     },
     "metadata": {},
     "output_type": "display_data"
    }
   ],
   "source": [
    "%%time\n",
    "plot_estimator_scores(rfc_multi, \"maxDepth\", max_depth)"
   ]
  },
  {
   "cell_type": "code",
   "execution_count": 10,
   "metadata": {},
   "outputs": [
    {
     "name": "stdout",
     "output_type": "stream",
     "text": [
      "CPU times: user 185 ms, sys: 51.5 ms, total: 237 ms\n",
      "Wall time: 2.4 s\n"
     ]
    },
    {
     "data": {
      "image/png": "[encoded data removed]",
      "text/plain": [
       "<Figure size 640x480 with 1 Axes>"
      ]
     },
     "metadata": {},
     "output_type": "display_data"
    }
   ],
   "source": [
    "%%time\n",
    "plot_estimator_scores(rfc_trees, \"numTrees\", num_trees)"
   ]
  },
  {
   "cell_type": "markdown",
   "metadata": {},
   "source": [
    "## Evaluation using Confusion Matrices"
   ]
  },
  {
   "cell_type": "code",
   "execution_count": 11,
   "metadata": {},
   "outputs": [
    {
     "name": "stderr",
     "output_type": "stream",
     "text": [
      "/usr/local/Caskroom/miniconda/base/envs/soen/lib/python3.10/site-packages/pyspark/sql/context.py:157: FutureWarning: Deprecated in 3.0.0. Use SparkSession.builder.getOrCreate() instead.\n",
      "  warnings.warn(\n",
      "                                                                                \r"
     ]
    },
    {
     "ename": "ValueError",
     "evalue": "RDD is empty",
     "output_type": "error",
     "traceback": [
      "\u001b[0;31m---------------------------------------------------------------------------\u001b[0m",
      "\u001b[0;31mValueError\u001b[0m                                Traceback (most recent call last)",
      "Cell \u001b[0;32mIn[11], line 43\u001b[0m\n\u001b[1;32m     39\u001b[0m     \u001b[39m# Add colorbar\u001b[39;00m\n\u001b[1;32m     40\u001b[0m     fig\u001b[39m.\u001b[39mcolorbar(disp\u001b[39m.\u001b[39mim_, ax\u001b[39m=\u001b[39maxes\u001b[39m.\u001b[39mravel()\u001b[39m.\u001b[39mtolist())\n\u001b[0;32m---> 43\u001b[0m generate_confusion_matrix(model_list, val_df, test_df)\n",
      "Cell \u001b[0;32mIn[11], line 29\u001b[0m, in \u001b[0;36mgenerate_confusion_matrix\u001b[0;34m(model_list, val_df, test_df)\u001b[0m\n\u001b[1;32m     19\u001b[0m predictionAndLabels \u001b[39m=\u001b[39m best_model\u001b[39m.\u001b[39mrdd\u001b[39m.\u001b[39mmap(\n\u001b[1;32m     20\u001b[0m     \u001b[39mlambda\u001b[39;00m row: (\u001b[39mfloat\u001b[39m(row[\u001b[39m\"\u001b[39m\u001b[39mprediction\u001b[39m\u001b[39m\"\u001b[39m]), \u001b[39mfloat\u001b[39m(row[\u001b[39m\"\u001b[39m\u001b[39mclass\u001b[39m\u001b[39m\"\u001b[39m]))\n\u001b[1;32m     21\u001b[0m )\n\u001b[1;32m     22\u001b[0m class_names \u001b[39m=\u001b[39m (\n\u001b[1;32m     23\u001b[0m     best_model\u001b[39m.\u001b[39mselect(\u001b[39m\"\u001b[39m\u001b[39mclass\u001b[39m\u001b[39m\"\u001b[39m)\n\u001b[1;32m     24\u001b[0m     \u001b[39m.\u001b[39mdistinct()\n\u001b[0;32m   (...)\u001b[0m\n\u001b[1;32m     27\u001b[0m     \u001b[39m.\u001b[39mcollect()\n\u001b[1;32m     28\u001b[0m )\n\u001b[0;32m---> 29\u001b[0m metrics \u001b[39m=\u001b[39m MulticlassMetrics(predictionAndLabels)\n\u001b[1;32m     30\u001b[0m con_mtrx \u001b[39m=\u001b[39m metrics\u001b[39m.\u001b[39mconfusionMatrix()\u001b[39m.\u001b[39mtoArray()\u001b[39m.\u001b[39mastype(\u001b[39mint\u001b[39m)\n\u001b[1;32m     32\u001b[0m \u001b[39m# Plot confusion matrix\u001b[39;00m\n",
      "File \u001b[0;32m/usr/local/Caskroom/miniconda/base/envs/soen/lib/python3.10/site-packages/pyspark/mllib/evaluation.py:288\u001b[0m, in \u001b[0;36mMulticlassMetrics.__init__\u001b[0;34m(self, predictionAndLabels)\u001b[0m\n\u001b[1;32m    286\u001b[0m sc \u001b[39m=\u001b[39m predictionAndLabels\u001b[39m.\u001b[39mctx\n\u001b[1;32m    287\u001b[0m sql_ctx \u001b[39m=\u001b[39m SQLContext\u001b[39m.\u001b[39mgetOrCreate(sc)\n\u001b[0;32m--> 288\u001b[0m numCol \u001b[39m=\u001b[39m \u001b[39mlen\u001b[39m(predictionAndLabels\u001b[39m.\u001b[39;49mfirst())\n\u001b[1;32m    289\u001b[0m schema \u001b[39m=\u001b[39m StructType(\n\u001b[1;32m    290\u001b[0m     [\n\u001b[1;32m    291\u001b[0m         StructField(\u001b[39m\"\u001b[39m\u001b[39mprediction\u001b[39m\u001b[39m\"\u001b[39m, DoubleType(), nullable\u001b[39m=\u001b[39m\u001b[39mFalse\u001b[39;00m),\n\u001b[1;32m    292\u001b[0m         StructField(\u001b[39m\"\u001b[39m\u001b[39mlabel\u001b[39m\u001b[39m\"\u001b[39m, DoubleType(), nullable\u001b[39m=\u001b[39m\u001b[39mFalse\u001b[39;00m),\n\u001b[1;32m    293\u001b[0m     ]\n\u001b[1;32m    294\u001b[0m )\n\u001b[1;32m    295\u001b[0m \u001b[39mif\u001b[39;00m numCol \u001b[39m>\u001b[39m\u001b[39m=\u001b[39m \u001b[39m3\u001b[39m:\n",
      "File \u001b[0;32m/usr/local/Caskroom/miniconda/base/envs/soen/lib/python3.10/site-packages/pyspark/rdd.py:1906\u001b[0m, in \u001b[0;36mRDD.first\u001b[0;34m(self)\u001b[0m\n\u001b[1;32m   1904\u001b[0m \u001b[39mif\u001b[39;00m rs:\n\u001b[1;32m   1905\u001b[0m     \u001b[39mreturn\u001b[39;00m rs[\u001b[39m0\u001b[39m]\n\u001b[0;32m-> 1906\u001b[0m \u001b[39mraise\u001b[39;00m \u001b[39mValueError\u001b[39;00m(\u001b[39m\"\u001b[39m\u001b[39mRDD is empty\u001b[39m\u001b[39m\"\u001b[39m)\n",
      "\u001b[0;31mValueError\u001b[0m: RDD is empty"
     ]
    },
    {
     "data": {
      "image/png": "[encoded data removed]",
      "text/plain": [
       "<Figure size 1500x500 with 2 Axes>"
      ]
     },
     "metadata": {},
     "output_type": "display_data"
    }
   ],
   "source": [
    "# Declare models and model names\n",
    "model_list = [rfc_multi, rfc_trees]\n",
    "model_names = [\"RFC Max Depth\", \"RFC Num Trees\"]\n",
    "\n",
    "\n",
    "def generate_confusion_matrix(model_list: list, val_df: DataFrame, test_df: DataFrame):\n",
    "    \"\"\"Generates a confusion matrix for each model in model_list\"\"\"\n",
    "    fig, axes = plt.subplots(1, 2, figsize=(15, 5))\n",
    "\n",
    "    for i, model in enumerate(model_list):\n",
    "        val_score = score_model(model, val_df)\n",
    "        best_val_score = max(val_score)\n",
    "        best_val_idx = val_score.index(best_val_score)\n",
    "\n",
    "        # Generate confusion matrix\n",
    "        best_model = (\n",
    "            model[best_val_idx].transform(test_df).select(\"class\", \"prediction\")\n",
    "        )\n",
    "        predictionAndLabels = best_model.rdd.map(\n",
    "            lambda row: (float(row[\"prediction\"]), float(row[\"class\"]))\n",
    "        )\n",
    "        class_names = (\n",
    "            best_model.select(\"class\")\n",
    "            .distinct()\n",
    "            .sort(\"class\")\n",
    "            .rdd.map(lambda row: row[0])\n",
    "            .collect()\n",
    "        )\n",
    "        metrics = MulticlassMetrics(predictionAndLabels)\n",
    "        con_mtrx = metrics.confusionMatrix().toArray().astype(int)\n",
    "\n",
    "        # Plot confusion matrix\n",
    "        disp = ConfusionMatrixDisplay(\n",
    "            confusion_matrix=con_mtrx, display_labels=class_names\n",
    "        )\n",
    "        disp.plot(ax=axes[i], colorbar=False)\n",
    "        axes[i % 2].set_title(model_names[i % 2])\n",
    "\n",
    "    # Add colorbar\n",
    "    fig.colorbar(disp.im_, ax=axes.ravel().tolist())\n",
    "\n",
    "\n",
    "generate_confusion_matrix(model_list, val_df, test_df)"
   ]
  },
  {
   "cell_type": "markdown",
   "metadata": {},
   "source": [
    "## Putting it all together using Cross-Validation\n",
    "\n",
    "Since we evaluated the hyperparameters separately above, we should create a Pipeline in which the best hyperparameters are determined grid-wise. This should automate what we did above."
   ]
  },
  {
   "cell_type": "code",
   "execution_count": null,
   "metadata": {},
   "outputs": [
    {
     "name": "stdout",
     "output_type": "stream",
     "text": [
      "23/03/30 18:05:00 WARN DAGScheduler: Broadcasting large task binary with size 1101.5 KiB\n",
      "23/03/30 18:05:01 WARN DAGScheduler: Broadcasting large task binary with size 1088.8 KiB\n",
      "23/03/30 18:05:06 WARN DAGScheduler: Broadcasting large task binary with size 1038.0 KiB\n",
      "23/03/30 18:05:07 WARN DAGScheduler: Broadcasting large task binary with size 1453.0 KiB\n"
     ]
    },
    {
     "name": "stderr",
     "output_type": "stream",
     "text": [
      "                                                                                \r"
     ]
    },
    {
     "name": "stdout",
     "output_type": "stream",
     "text": [
      "23/03/30 18:05:08 WARN DAGScheduler: Broadcasting large task binary with size 1854.7 KiB\n",
      "23/03/30 18:05:09 WARN DAGScheduler: Broadcasting large task binary with size 2.1 MiB\n"
     ]
    },
    {
     "name": "stderr",
     "output_type": "stream",
     "text": [
      "                                                                                \r"
     ]
    },
    {
     "name": "stdout",
     "output_type": "stream",
     "text": [
      "23/03/30 18:05:10 WARN DAGScheduler: Broadcasting large task binary with size 2.1 MiB\n",
      "23/03/30 18:05:11 WARN DAGScheduler: Broadcasting large task binary with size 1722.1 KiB\n",
      "23/03/30 18:05:24 WARN DAGScheduler: Broadcasting large task binary with size 1101.5 KiB\n",
      "23/03/30 18:05:24 WARN DAGScheduler: Broadcasting large task binary with size 1088.8 KiB\n",
      "23/03/30 18:05:28 WARN DAGScheduler: Broadcasting large task binary with size 1038.0 KiB\n",
      "23/03/30 18:05:28 WARN DAGScheduler: Broadcasting large task binary with size 1453.0 KiB\n",
      "23/03/30 18:05:29 WARN DAGScheduler: Broadcasting large task binary with size 1854.7 KiB\n",
      "23/03/30 18:05:29 WARN DAGScheduler: Broadcasting large task binary with size 2.1 MiB\n",
      "23/03/30 18:05:30 WARN DAGScheduler: Broadcasting large task binary with size 2.1 MiB\n",
      "23/03/30 18:05:30 WARN DAGScheduler: Broadcasting large task binary with size 1958.5 KiB\n",
      "23/03/30 18:05:30 WARN DAGScheduler: Broadcasting large task binary with size 1306.0 KiB\n",
      "23/03/30 18:05:32 WARN DAGScheduler: Broadcasting large task binary with size 1864.7 KiB\n",
      "23/03/30 18:05:41 WARN DAGScheduler: Broadcasting large task binary with size 1101.5 KiB\n",
      "23/03/30 18:05:41 WARN DAGScheduler: Broadcasting large task binary with size 1088.8 KiB\n",
      "23/03/30 18:05:44 WARN DAGScheduler: Broadcasting large task binary with size 1038.0 KiB\n",
      "23/03/30 18:05:45 WARN DAGScheduler: Broadcasting large task binary with size 1453.0 KiB\n",
      "23/03/30 18:05:45 WARN DAGScheduler: Broadcasting large task binary with size 1854.7 KiB\n",
      "23/03/30 18:05:46 WARN DAGScheduler: Broadcasting large task binary with size 2.1 MiB\n",
      "23/03/30 18:05:46 WARN DAGScheduler: Broadcasting large task binary with size 2.1 MiB\n",
      "23/03/30 18:05:46 WARN DAGScheduler: Broadcasting large task binary with size 1958.5 KiB\n",
      "23/03/30 18:05:47 WARN DAGScheduler: Broadcasting large task binary with size 1306.0 KiB\n",
      "23/03/30 18:05:48 WARN DAGScheduler: Broadcasting large task binary with size 1864.7 KiB\n",
      "23/03/30 18:06:11 WARN DAGScheduler: Broadcasting large task binary with size 1125.2 KiB\n",
      "23/03/30 18:06:11 WARN DAGScheduler: Broadcasting large task binary with size 1364.5 KiB\n",
      "23/03/30 18:06:12 WARN DAGScheduler: Broadcasting large task binary with size 1527.5 KiB\n",
      "23/03/30 18:06:12 WARN DAGScheduler: Broadcasting large task binary with size 1121.3 KiB\n",
      "23/03/30 18:06:14 WARN DAGScheduler: Broadcasting large task binary with size 1068.3 KiB\n",
      "23/03/30 18:06:15 WARN DAGScheduler: Broadcasting large task binary with size 1545.3 KiB\n",
      "23/03/30 18:06:15 WARN DAGScheduler: Broadcasting large task binary with size 2.0 MiB\n",
      "23/03/30 18:06:16 WARN DAGScheduler: Broadcasting large task binary with size 2.5 MiB\n",
      "23/03/30 18:06:16 WARN DAGScheduler: Broadcasting large task binary with size 2.8 MiB\n",
      "23/03/30 18:06:17 WARN DAGScheduler: Broadcasting large task binary with size 2.0 MiB\n",
      "23/03/30 18:06:26 WARN DAGScheduler: Broadcasting large task binary with size 1125.2 KiB\n",
      "23/03/30 18:06:26 WARN DAGScheduler: Broadcasting large task binary with size 1364.5 KiB\n",
      "23/03/30 18:06:26 WARN DAGScheduler: Broadcasting large task binary with size 1527.5 KiB\n",
      "23/03/30 18:06:27 WARN DAGScheduler: Broadcasting large task binary with size 1365.4 KiB\n",
      "23/03/30 18:06:27 WARN DAGScheduler: Broadcasting large task binary with size 1019.5 KiB\n",
      "23/03/30 18:06:27 WARN DAGScheduler: Broadcasting large task binary with size 1196.8 KiB\n",
      "23/03/30 18:06:29 WARN DAGScheduler: Broadcasting large task binary with size 1068.3 KiB\n",
      "23/03/30 18:06:30 WARN DAGScheduler: Broadcasting large task binary with size 1545.3 KiB\n",
      "23/03/30 18:06:30 WARN DAGScheduler: Broadcasting large task binary with size 2.0 MiB\n",
      "23/03/30 18:06:31 WARN DAGScheduler: Broadcasting large task binary with size 2.5 MiB\n",
      "23/03/30 18:06:31 WARN DAGScheduler: Broadcasting large task binary with size 2.8 MiB\n",
      "23/03/30 18:06:31 WARN DAGScheduler: Broadcasting large task binary with size 2.8 MiB\n",
      "23/03/30 18:06:32 WARN DAGScheduler: Broadcasting large task binary with size 2018.0 KiB\n",
      "23/03/30 18:06:32 WARN DAGScheduler: Broadcasting large task binary with size 1236.1 KiB\n",
      "23/03/30 18:06:33 WARN DAGScheduler: Broadcasting large task binary with size 2.2 MiB\n",
      "23/03/30 18:06:40 WARN DAGScheduler: Broadcasting large task binary with size 1125.2 KiB\n",
      "23/03/30 18:06:41 WARN DAGScheduler: Broadcasting large task binary with size 1364.5 KiB\n",
      "23/03/30 18:06:41 WARN DAGScheduler: Broadcasting large task binary with size 1527.5 KiB\n",
      "23/03/30 18:06:41 WARN DAGScheduler: Broadcasting large task binary with size 1365.4 KiB\n",
      "23/03/30 18:06:41 WARN DAGScheduler: Broadcasting large task binary with size 1019.5 KiB\n",
      "23/03/30 18:06:42 WARN DAGScheduler: Broadcasting large task binary with size 1196.8 KiB\n",
      "23/03/30 18:06:44 WARN DAGScheduler: Broadcasting large task binary with size 1068.3 KiB\n",
      "23/03/30 18:06:44 WARN DAGScheduler: Broadcasting large task binary with size 1545.3 KiB\n",
      "23/03/30 18:06:45 WARN DAGScheduler: Broadcasting large task binary with size 2.0 MiB\n",
      "23/03/30 18:06:45 WARN DAGScheduler: Broadcasting large task binary with size 2.5 MiB\n",
      "23/03/30 18:06:46 WARN DAGScheduler: Broadcasting large task binary with size 2.8 MiB\n",
      "23/03/30 18:06:46 WARN DAGScheduler: Broadcasting large task binary with size 2.8 MiB\n",
      "23/03/30 18:06:47 WARN DAGScheduler: Broadcasting large task binary with size 2018.0 KiB\n",
      "23/03/30 18:06:47 WARN DAGScheduler: Broadcasting large task binary with size 1236.1 KiB\n",
      "23/03/30 18:06:47 WARN DAGScheduler: Broadcasting large task binary with size 2.2 MiB\n",
      "23/03/30 18:07:01 WARN DAGScheduler: Broadcasting large task binary with size 1038.9 KiB\n",
      "23/03/30 18:07:02 WARN DAGScheduler: Broadcasting large task binary with size 1227.3 KiB\n",
      "23/03/30 18:07:02 WARN DAGScheduler: Broadcasting large task binary with size 1355.3 KiB\n",
      "23/03/30 18:07:03 WARN DAGScheduler: Broadcasting large task binary with size 1089.8 KiB\n",
      "23/03/30 18:07:03 WARN DAGScheduler: Broadcasting large task binary with size 1555.1 KiB\n",
      "23/03/30 18:07:04 WARN DAGScheduler: Broadcasting large task binary with size 2015.6 KiB\n",
      "23/03/30 18:07:04 WARN DAGScheduler: Broadcasting large task binary with size 2.3 MiB\n",
      "23/03/30 18:07:04 WARN DAGScheduler: Broadcasting large task binary with size 2.5 MiB\n",
      "23/03/30 18:07:05 WARN DAGScheduler: Broadcasting large task binary with size 1910.5 KiB\n",
      "23/03/30 18:07:10 WARN DAGScheduler: Broadcasting large task binary with size 1038.9 KiB\n",
      "23/03/30 18:07:10 WARN DAGScheduler: Broadcasting large task binary with size 1227.3 KiB\n",
      "23/03/30 18:07:11 WARN DAGScheduler: Broadcasting large task binary with size 1355.3 KiB\n",
      "23/03/30 18:07:11 WARN DAGScheduler: Broadcasting large task binary with size 1190.2 KiB\n",
      "23/03/30 18:07:12 WARN DAGScheduler: Broadcasting large task binary with size 1069.6 KiB\n",
      "23/03/30 18:07:13 WARN DAGScheduler: Broadcasting large task binary with size 1089.8 KiB\n",
      "23/03/30 18:07:13 WARN DAGScheduler: Broadcasting large task binary with size 1555.1 KiB\n",
      "23/03/30 18:07:14 WARN DAGScheduler: Broadcasting large task binary with size 2015.6 KiB\n",
      "23/03/30 18:07:14 WARN DAGScheduler: Broadcasting large task binary with size 2.3 MiB\n",
      "23/03/30 18:07:14 WARN DAGScheduler: Broadcasting large task binary with size 2.5 MiB\n",
      "23/03/30 18:07:15 WARN DAGScheduler: Broadcasting large task binary with size 2.3 MiB\n",
      "23/03/30 18:07:15 WARN DAGScheduler: Broadcasting large task binary with size 1379.0 KiB\n",
      "23/03/30 18:07:15 WARN DAGScheduler: Broadcasting large task binary with size 2040.8 KiB\n",
      "23/03/30 18:07:19 WARN DAGScheduler: Broadcasting large task binary with size 1038.9 KiB\n",
      "23/03/30 18:07:20 WARN DAGScheduler: Broadcasting large task binary with size 1227.3 KiB\n",
      "23/03/30 18:07:20 WARN DAGScheduler: Broadcasting large task binary with size 1355.3 KiB\n",
      "23/03/30 18:07:20 WARN DAGScheduler: Broadcasting large task binary with size 1190.2 KiB\n",
      "23/03/30 18:07:20 WARN DAGScheduler: Broadcasting large task binary with size 1069.6 KiB\n",
      "23/03/30 18:07:21 WARN DAGScheduler: Broadcasting large task binary with size 1089.8 KiB\n",
      "23/03/30 18:07:21 WARN DAGScheduler: Broadcasting large task binary with size 1555.1 KiB\n",
      "23/03/30 18:07:22 WARN DAGScheduler: Broadcasting large task binary with size 2015.6 KiB\n",
      "23/03/30 18:07:22 WARN DAGScheduler: Broadcasting large task binary with size 2.3 MiB\n",
      "23/03/30 18:07:22 WARN DAGScheduler: Broadcasting large task binary with size 2.5 MiB\n",
      "23/03/30 18:07:22 WARN DAGScheduler: Broadcasting large task binary with size 2.3 MiB\n",
      "23/03/30 18:07:23 WARN DAGScheduler: Broadcasting large task binary with size 1379.0 KiB\n",
      "23/03/30 18:07:23 WARN DAGScheduler: Broadcasting large task binary with size 2040.8 KiB\n"
     ]
    }
   ],
   "source": [
    "def cross_validator(train_data: DataFrame) -> CrossValidatorModel:\n",
    "    \"\"\"Performs cross validation\"\"\"\n",
    "\n",
    "    # Define the estimator\n",
    "    rfc = RandomForestClassifier(\n",
    "        featuresCol=\"features\",\n",
    "        labelCol=\"class\",\n",
    "        seed=RANDOM_SEED,\n",
    "    )\n",
    "\n",
    "    # Define the parameter grid\n",
    "    param_grid = (\n",
    "        ParamGridBuilder()\n",
    "        .addGrid(rfc.maxDepth, max_depth)\n",
    "        .addGrid(rfc.numTrees, num_trees)\n",
    "        .build()\n",
    "    )\n",
    "\n",
    "    # Define the evaluator using F1 score\n",
    "    evaluator = MulticlassClassificationEvaluator(\n",
    "        labelCol=\"class\", predictionCol=\"prediction\", metricName=\"f1\"\n",
    "    )\n",
    "\n",
    "    # Create the cross validator with 5 folds\n",
    "    cv = CrossValidator(\n",
    "        estimator=rfc, estimatorParamMaps=param_grid, evaluator=evaluator, numFolds=3\n",
    "    )\n",
    "    cv_model = cv.fit(train_data)\n",
    "\n",
    "    return cv_model\n",
    "\n",
    "\n",
    "cv_model = cross_validator(train_df)"
   ]
  },
  {
   "cell_type": "code",
   "execution_count": null,
   "metadata": {},
   "outputs": [
    {
     "data": {
      "image/png": "[encoded data removed]",
      "text/plain": [
       "<Figure size 640x480 with 2 Axes>"
      ]
     },
     "metadata": {},
     "output_type": "display_data"
    }
   ],
   "source": [
    "def generate_cross_val_confusion_matrix(\n",
    "    cv_model: CrossValidatorModel, test_df: DataFrame\n",
    "):\n",
    "    \"\"\"Generates a confusion matrix for the best model from cross validation\"\"\"\n",
    "\n",
    "    # Generate confusion matrix\n",
    "    predictionAndLabels = (\n",
    "        cv_model.transform(test_df)\n",
    "        .select(\"class\", \"prediction\")\n",
    "        .rdd.map(lambda row: (float(row[\"prediction\"]), float(row[\"class\"])))\n",
    "    )\n",
    "    class_names = (\n",
    "        test_df.select(\"class\")\n",
    "        .distinct()\n",
    "        .sort(\"class\")\n",
    "        .rdd.map(lambda row: row[0])\n",
    "        .collect()\n",
    "    )\n",
    "    metrics = MulticlassMetrics(predictionAndLabels)\n",
    "    con_mtrx = metrics.confusionMatrix().toArray().astype(int)\n",
    "\n",
    "    # Plot confusion matrix\n",
    "    disp = ConfusionMatrixDisplay(confusion_matrix=con_mtrx, display_labels=class_names)\n",
    "    disp.plot()\n",
    "    plt.title(\"Cross Validation Confusion Matrix\")\n",
    "\n",
    "\n",
    "generate_cross_val_confusion_matrix(cv_model, test_df)"
   ]
  },
  {
   "cell_type": "markdown",
   "metadata": {},
   "source": [
    "### Explaining best hyperparameters\n",
    "\n",
    "Now we should explain the best hyperparameters for the cross-validation model.\n"
   ]
  },
  {
   "cell_type": "code",
   "execution_count": null,
   "metadata": {},
   "outputs": [
    {
     "name": "stdout",
     "output_type": "stream",
     "text": [
      "maxDepth: Maximum depth of the tree. (>= 0) E.g., depth 0 means 1 leaf node; depth 1 means 1 internal node + 2 leaf nodes. Must be in range [0, 30]. (default: 5, current: 10)\n",
      "numTrees: Number of trees to train (>= 1). (default: 20, current: 20)\n"
     ]
    }
   ],
   "source": [
    "print(cv_model.bestModel.explainParam(\"maxDepth\"))\n",
    "print(cv_model.bestModel.explainParam(\"numTrees\"))"
   ]
  }
 ],
 "metadata": {
  "kernelspec": {
   "display_name": "Python 3 (ipykernel)",
   "language": "python",
   "name": "python3"
  },
  "language_info": {
   "codemirror_mode": {
    "name": "ipython",
    "version": 3
   },
   "file_extension": ".py",
   "mimetype": "text/x-python",
   "name": "python",
   "nbconvert_exporter": "python",
   "pygments_lexer": "ipython3",
   "version": "3.10.10"
  },
  "vscode": {
   "interpreter": {
    "hash": "46322c83de86a81fdc934854bd44470e3f93ea916588cce92670cbd55719224b"
   }
  }
 },
 "nbformat": 4,
 "nbformat_minor": 2
}
