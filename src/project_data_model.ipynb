{
 "cells": [
  {
   "attachments": {},
   "cell_type": "markdown",
   "metadata": {},
   "source": [
    "## Preprocessing\n",
    "Preprocessing for the project includes processing of the *Billboard “The Hot 100” Songs* dataset to determine classification according to the rankings of the songs and processing of the *Million Song Dataset* for the songs that will need to be classified.\n",
    "### Preprocessing: The *Billboard “The Hot 100” Songs* dataset\n",
    "The *Billboard “The Hot 100” Songs* dataset is available via the Kaggle API at https://www.kaggle.com/datasets/dhruvildave/billboard-the-hot-100-songs. It includes the hot 100 songs from 1958 to 2021 (inclusive). Because the *Million Song Dataset* includes titles from 1922 to 2010 preprocessing of the dataset includes filtering the list of songs so that titles more recent than 2010 are removed. The most important features of the dataset are “song”, “artist”, “rank”.\n",
    "Preprocessing the *Billboard “The Hot 100” Songs* dataset included 5 main steps:\n",
    "1.\tDownloading the *Billboard “The Hot 100” Songs* dataset from the Kaggle API. This dataset had no missing values for the columns: *song*, *artist*, and *rank*.\n",
    "2.\tProcessing the downloaded CSV file by removing titles more recent than 2010, then grouping by both the *song* and the *artist*, and aggregating the results to take the minimum rank of each. The result of this processing is that for each *song* and *artist* pair, the minimum rank (highest billboard rank) is kept as it was determined that our project is only interested in the highest rank achieved for each song.\n",
    "3.\tThe next step in processing was to classify each of the data points such that ranks 1 to 10 were defined as class 0, ranks 11 to 20 were defined as class 1, and so on for each of the ranks up to 100. \n",
    "4.\tThe columns *song*, *artist*, and *class* were then saved to a CSV file for the last data processing step where it is used to classify the *Million Song Dataset* before it can be used to train our models.\n",
    "5. As part of an effort to enhance the models, a new spotify dataset was processed and the billboard dataset was updated to include all available entries prior to 2023.\n",
    "Pyspark was determined to be the best tool for processing the *Billboard “The Hot 100” Songs* dataset. The script can be found here in /src/preprocessing/billboard_preprocessor.py\n"
   ]
  }
 ],
 "metadata": {
  "language_info": {
   "name": "python"
  },
  "orig_nbformat": 4
 },
 "nbformat": 4,
 "nbformat_minor": 2
}
